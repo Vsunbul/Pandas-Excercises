{
 "cells": [
  {
   "cell_type": "code",
   "execution_count": 104,
   "id": "81a511e1",
   "metadata": {},
   "outputs": [],
   "source": [
    "import pandas as pd\n",
    "from datetime import datetime\n",
    "import matplotlib.pyplot as plt"
   ]
  },
  {
   "cell_type": "code",
   "execution_count": 3,
   "id": "f6061006",
   "metadata": {},
   "outputs": [],
   "source": [
    "df = pd.read_csv(\"BreadBasket_DMS.csv\")"
   ]
  },
  {
   "cell_type": "code",
   "execution_count": 6,
   "id": "2037fe54",
   "metadata": {},
   "outputs": [
    {
     "name": "stdout",
     "output_type": "stream",
     "text": [
      "<class 'pandas.core.frame.DataFrame'>\n",
      "RangeIndex: 21293 entries, 0 to 21292\n",
      "Data columns (total 4 columns):\n",
      " #   Column       Non-Null Count  Dtype \n",
      "---  ------       --------------  ----- \n",
      " 0   Date         21293 non-null  object\n",
      " 1   Time         21293 non-null  object\n",
      " 2   Transaction  21293 non-null  int64 \n",
      " 3   Item         21293 non-null  object\n",
      "dtypes: int64(1), object(3)\n",
      "memory usage: 665.5+ KB\n"
     ]
    }
   ],
   "source": [
    "df.info()"
   ]
  },
  {
   "cell_type": "code",
   "execution_count": 10,
   "id": "94dc8dcb",
   "metadata": {},
   "outputs": [
    {
     "data": {
      "text/html": [
       "<div>\n",
       "<style scoped>\n",
       "    .dataframe tbody tr th:only-of-type {\n",
       "        vertical-align: middle;\n",
       "    }\n",
       "\n",
       "    .dataframe tbody tr th {\n",
       "        vertical-align: top;\n",
       "    }\n",
       "\n",
       "    .dataframe thead th {\n",
       "        text-align: right;\n",
       "    }\n",
       "</style>\n",
       "<table border=\"1\" class=\"dataframe\">\n",
       "  <thead>\n",
       "    <tr style=\"text-align: right;\">\n",
       "      <th></th>\n",
       "      <th>Date</th>\n",
       "      <th>Time</th>\n",
       "      <th>Transaction</th>\n",
       "      <th>Item</th>\n",
       "    </tr>\n",
       "  </thead>\n",
       "  <tbody>\n",
       "    <tr>\n",
       "      <th>0</th>\n",
       "      <td>2016-10-30</td>\n",
       "      <td>09:58:11</td>\n",
       "      <td>1</td>\n",
       "      <td>Bread</td>\n",
       "    </tr>\n",
       "    <tr>\n",
       "      <th>1</th>\n",
       "      <td>2016-10-30</td>\n",
       "      <td>10:05:34</td>\n",
       "      <td>2</td>\n",
       "      <td>Scandinavian</td>\n",
       "    </tr>\n",
       "    <tr>\n",
       "      <th>2</th>\n",
       "      <td>2016-10-30</td>\n",
       "      <td>10:05:34</td>\n",
       "      <td>2</td>\n",
       "      <td>Scandinavian</td>\n",
       "    </tr>\n",
       "    <tr>\n",
       "      <th>3</th>\n",
       "      <td>2016-10-30</td>\n",
       "      <td>10:07:57</td>\n",
       "      <td>3</td>\n",
       "      <td>Hot chocolate</td>\n",
       "    </tr>\n",
       "    <tr>\n",
       "      <th>4</th>\n",
       "      <td>2016-10-30</td>\n",
       "      <td>10:07:57</td>\n",
       "      <td>3</td>\n",
       "      <td>Jam</td>\n",
       "    </tr>\n",
       "  </tbody>\n",
       "</table>\n",
       "</div>"
      ],
      "text/plain": [
       "         Date      Time  Transaction           Item\n",
       "0  2016-10-30  09:58:11            1          Bread\n",
       "1  2016-10-30  10:05:34            2   Scandinavian\n",
       "2  2016-10-30  10:05:34            2   Scandinavian\n",
       "3  2016-10-30  10:07:57            3  Hot chocolate\n",
       "4  2016-10-30  10:07:57            3            Jam"
      ]
     },
     "execution_count": 10,
     "metadata": {},
     "output_type": "execute_result"
    }
   ],
   "source": [
    "df.head()"
   ]
  },
  {
   "cell_type": "markdown",
   "id": "ba7ec159",
   "metadata": {},
   "source": [
    "Write a function that takes this file as an input and to the following: \n",
    "a) Print the number of unique items \n",
    "b)  Print how many times each item was sold. \n",
    "c)  How many transactions contain Coffee. Note that you may have more than one coffee in one \n",
    "transaction. \n"
   ]
  },
  {
   "cell_type": "code",
   "execution_count": 14,
   "id": "1b0c1c65",
   "metadata": {},
   "outputs": [
    {
     "name": "stdout",
     "output_type": "stream",
     "text": [
      "['Bread' 'Scandinavian' 'Hot chocolate' 'Jam' 'Cookies' 'Muffin' 'Coffee'\n",
      " 'Pastry' 'Medialuna' 'Tea' 'NONE' 'Tartine' 'Basket' 'Mineral water'\n",
      " 'Farm House' 'Fudge' 'Juice' \"Ella's Kitchen Pouches\" 'Victorian Sponge'\n",
      " 'Frittata' 'Hearty & Seasonal' 'Soup' 'Pick and Mix Bowls' 'Smoothies'\n",
      " 'Cake' 'Mighty Protein' 'Chicken sand' 'Coke' 'My-5 Fruit Shoot'\n",
      " 'Focaccia' 'Sandwich' 'Alfajores' 'Eggs' 'Brownie' 'Dulce de Leche'\n",
      " 'Honey' 'The BART' 'Granola' 'Fairy Doors' 'Empanadas' 'Keeping It Local'\n",
      " 'Art Tray' 'Bowl Nic Pitt' 'Bread Pudding' 'Adjustment' 'Truffles'\n",
      " 'Chimichurri Oil' 'Bacon' 'Spread' 'Kids biscuit' 'Siblings'\n",
      " 'Caramel bites' 'Jammie Dodgers' 'Tiffin' 'Olum & polenta' 'Polenta'\n",
      " 'The Nomad' 'Hack the stack' 'Bakewell' 'Lemon and coconut' 'Toast'\n",
      " 'Scone' 'Crepes' 'Vegan mincepie' 'Bare Popcorn' 'Muesli' 'Crisps'\n",
      " 'Pintxos' 'Gingerbread syrup' 'Panatone' 'Brioche and salami'\n",
      " 'Afternoon with the baker' 'Salad' 'Chicken Stew' 'Spanish Brunch'\n",
      " 'Raspberry shortbread sandwich' 'Extra Salami or Feta' 'Duck egg'\n",
      " 'Baguette' \"Valentine's card\" 'Tshirt' 'Vegan Feast' 'Postcard'\n",
      " 'Nomad bag' 'Chocolates' 'Coffee granules ' 'Drinking chocolate spoons '\n",
      " 'Christmas common' 'Argentina Night' 'Half slice Monster ' 'Gift voucher'\n",
      " 'Cherry me Dried fruit' 'Mortimer' 'Raw bars' 'Tacos/Fajita']\n"
     ]
    }
   ],
   "source": [
    "print(df.Item.unique())"
   ]
  },
  {
   "cell_type": "code",
   "execution_count": 17,
   "id": "6b306268",
   "metadata": {},
   "outputs": [
    {
     "data": {
      "text/plain": [
       "95"
      ]
     },
     "execution_count": 17,
     "metadata": {},
     "output_type": "execute_result"
    }
   ],
   "source": [
    "df.Item.unique().size"
   ]
  },
  {
   "cell_type": "code",
   "execution_count": null,
   "id": "95085162",
   "metadata": {},
   "outputs": [],
   "source": []
  },
  {
   "cell_type": "code",
   "execution_count": 67,
   "id": "e82264cf",
   "metadata": {},
   "outputs": [
    {
     "data": {
      "text/html": [
       "<div>\n",
       "<style scoped>\n",
       "    .dataframe tbody tr th:only-of-type {\n",
       "        vertical-align: middle;\n",
       "    }\n",
       "\n",
       "    .dataframe tbody tr th {\n",
       "        vertical-align: top;\n",
       "    }\n",
       "\n",
       "    .dataframe thead th {\n",
       "        text-align: right;\n",
       "    }\n",
       "</style>\n",
       "<table border=\"1\" class=\"dataframe\">\n",
       "  <thead>\n",
       "    <tr style=\"text-align: right;\">\n",
       "      <th></th>\n",
       "      <th>Transaction</th>\n",
       "    </tr>\n",
       "    <tr>\n",
       "      <th>Item</th>\n",
       "      <th></th>\n",
       "    </tr>\n",
       "  </thead>\n",
       "  <tbody>\n",
       "    <tr>\n",
       "      <th>Adjustment</th>\n",
       "      <td>938</td>\n",
       "    </tr>\n",
       "    <tr>\n",
       "      <th>Afternoon with the baker</th>\n",
       "      <td>286028</td>\n",
       "    </tr>\n",
       "    <tr>\n",
       "      <th>Alfajores</th>\n",
       "      <td>1512575</td>\n",
       "    </tr>\n",
       "    <tr>\n",
       "      <th>Argentina Night</th>\n",
       "      <td>64153</td>\n",
       "    </tr>\n",
       "    <tr>\n",
       "      <th>Art Tray</th>\n",
       "      <td>140877</td>\n",
       "    </tr>\n",
       "    <tr>\n",
       "      <th>Bacon</th>\n",
       "      <td>1248</td>\n",
       "    </tr>\n",
       "    <tr>\n",
       "      <th>Baguette</th>\n",
       "      <td>1109334</td>\n",
       "    </tr>\n",
       "    <tr>\n",
       "      <th>Bakewell</th>\n",
       "      <td>272027</td>\n",
       "    </tr>\n",
       "    <tr>\n",
       "      <th>Bare Popcorn</th>\n",
       "      <td>22420</td>\n",
       "    </tr>\n",
       "    <tr>\n",
       "      <th>Basket</th>\n",
       "      <td>2369</td>\n",
       "    </tr>\n",
       "    <tr>\n",
       "      <th>Bowl Nic Pitt</th>\n",
       "      <td>2028</td>\n",
       "    </tr>\n",
       "    <tr>\n",
       "      <th>Bread</th>\n",
       "      <td>16213533</td>\n",
       "    </tr>\n",
       "    <tr>\n",
       "      <th>Bread Pudding</th>\n",
       "      <td>3662</td>\n",
       "    </tr>\n",
       "    <tr>\n",
       "      <th>Brioche and salami</th>\n",
       "      <td>17936</td>\n",
       "    </tr>\n",
       "    <tr>\n",
       "      <th>Brownie</th>\n",
       "      <td>1585847</td>\n",
       "    </tr>\n",
       "    <tr>\n",
       "      <th>Cake</th>\n",
       "      <td>5932362</td>\n",
       "    </tr>\n",
       "    <tr>\n",
       "      <th>Caramel bites</th>\n",
       "      <td>5101</td>\n",
       "    </tr>\n",
       "    <tr>\n",
       "      <th>Cherry me Dried fruit</th>\n",
       "      <td>26411</td>\n",
       "    </tr>\n",
       "    <tr>\n",
       "      <th>Chicken Stew</th>\n",
       "      <td>876528</td>\n",
       "    </tr>\n",
       "    <tr>\n",
       "      <th>Chicken sand</th>\n",
       "      <td>68</td>\n",
       "    </tr>\n",
       "  </tbody>\n",
       "</table>\n",
       "</div>"
      ],
      "text/plain": [
       "                          Transaction\n",
       "Item                                 \n",
       "Adjustment                        938\n",
       "Afternoon with the baker       286028\n",
       "Alfajores                     1512575\n",
       "Argentina Night                 64153\n",
       "Art Tray                       140877\n",
       "Bacon                            1248\n",
       "Baguette                      1109334\n",
       "Bakewell                       272027\n",
       "Bare Popcorn                    22420\n",
       "Basket                           2369\n",
       "Bowl Nic Pitt                    2028\n",
       "Bread                        16213533\n",
       "Bread Pudding                    3662\n",
       "Brioche and salami              17936\n",
       "Brownie                       1585847\n",
       "Cake                          5932362\n",
       "Caramel bites                    5101\n",
       "Cherry me Dried fruit           26411\n",
       "Chicken Stew                   876528\n",
       "Chicken sand                       68"
      ]
     },
     "execution_count": 67,
     "metadata": {},
     "output_type": "execute_result"
    }
   ],
   "source": [
    "df.groupby(by = \"Item\")[[\"Transaction\"]].sum().head(20)"
   ]
  },
  {
   "cell_type": "code",
   "execution_count": 25,
   "id": "bef44462",
   "metadata": {},
   "outputs": [],
   "source": [
    "new_index = df.set_index(\"Item\")"
   ]
  },
  {
   "cell_type": "code",
   "execution_count": 27,
   "id": "370d3cfd",
   "metadata": {},
   "outputs": [
    {
     "data": {
      "text/html": [
       "<div>\n",
       "<style scoped>\n",
       "    .dataframe tbody tr th:only-of-type {\n",
       "        vertical-align: middle;\n",
       "    }\n",
       "\n",
       "    .dataframe tbody tr th {\n",
       "        vertical-align: top;\n",
       "    }\n",
       "\n",
       "    .dataframe thead th {\n",
       "        text-align: right;\n",
       "    }\n",
       "</style>\n",
       "<table border=\"1\" class=\"dataframe\">\n",
       "  <thead>\n",
       "    <tr style=\"text-align: right;\">\n",
       "      <th></th>\n",
       "      <th>Date</th>\n",
       "      <th>Time</th>\n",
       "      <th>Transaction</th>\n",
       "    </tr>\n",
       "    <tr>\n",
       "      <th>Item</th>\n",
       "      <th></th>\n",
       "      <th></th>\n",
       "      <th></th>\n",
       "    </tr>\n",
       "  </thead>\n",
       "  <tbody>\n",
       "    <tr>\n",
       "      <th>Bread</th>\n",
       "      <td>2016-10-30</td>\n",
       "      <td>09:58:11</td>\n",
       "      <td>1</td>\n",
       "    </tr>\n",
       "    <tr>\n",
       "      <th>Scandinavian</th>\n",
       "      <td>2016-10-30</td>\n",
       "      <td>10:05:34</td>\n",
       "      <td>2</td>\n",
       "    </tr>\n",
       "    <tr>\n",
       "      <th>Scandinavian</th>\n",
       "      <td>2016-10-30</td>\n",
       "      <td>10:05:34</td>\n",
       "      <td>2</td>\n",
       "    </tr>\n",
       "    <tr>\n",
       "      <th>Hot chocolate</th>\n",
       "      <td>2016-10-30</td>\n",
       "      <td>10:07:57</td>\n",
       "      <td>3</td>\n",
       "    </tr>\n",
       "    <tr>\n",
       "      <th>Jam</th>\n",
       "      <td>2016-10-30</td>\n",
       "      <td>10:07:57</td>\n",
       "      <td>3</td>\n",
       "    </tr>\n",
       "  </tbody>\n",
       "</table>\n",
       "</div>"
      ],
      "text/plain": [
       "                     Date      Time  Transaction\n",
       "Item                                            \n",
       "Bread          2016-10-30  09:58:11            1\n",
       "Scandinavian   2016-10-30  10:05:34            2\n",
       "Scandinavian   2016-10-30  10:05:34            2\n",
       "Hot chocolate  2016-10-30  10:07:57            3\n",
       "Jam            2016-10-30  10:07:57            3"
      ]
     },
     "execution_count": 27,
     "metadata": {},
     "output_type": "execute_result"
    }
   ],
   "source": [
    "new_index.head()\n"
   ]
  },
  {
   "cell_type": "code",
   "execution_count": 48,
   "id": "804bfd4f",
   "metadata": {},
   "outputs": [
    {
     "data": {
      "text/plain": [
       "4528"
      ]
     },
     "execution_count": 48,
     "metadata": {},
     "output_type": "execute_result"
    }
   ],
   "source": [
    "df.query(\"Item=='Coffee'\").Transaction.unique().size"
   ]
  },
  {
   "cell_type": "code",
   "execution_count": 51,
   "id": "dfaa872f",
   "metadata": {},
   "outputs": [
    {
     "data": {
      "text/html": [
       "<div>\n",
       "<style scoped>\n",
       "    .dataframe tbody tr th:only-of-type {\n",
       "        vertical-align: middle;\n",
       "    }\n",
       "\n",
       "    .dataframe tbody tr th {\n",
       "        vertical-align: top;\n",
       "    }\n",
       "\n",
       "    .dataframe thead th {\n",
       "        text-align: right;\n",
       "    }\n",
       "</style>\n",
       "<table border=\"1\" class=\"dataframe\">\n",
       "  <thead>\n",
       "    <tr style=\"text-align: right;\">\n",
       "      <th></th>\n",
       "      <th>Date</th>\n",
       "      <th>Time</th>\n",
       "      <th>Transaction</th>\n",
       "    </tr>\n",
       "    <tr>\n",
       "      <th>Item</th>\n",
       "      <th></th>\n",
       "      <th></th>\n",
       "      <th></th>\n",
       "    </tr>\n",
       "  </thead>\n",
       "  <tbody>\n",
       "    <tr>\n",
       "      <th>Coffee</th>\n",
       "      <td>2016-10-30</td>\n",
       "      <td>10:13:03</td>\n",
       "      <td>5</td>\n",
       "    </tr>\n",
       "    <tr>\n",
       "      <th>Coffee</th>\n",
       "      <td>2016-10-30</td>\n",
       "      <td>10:19:12</td>\n",
       "      <td>7</td>\n",
       "    </tr>\n",
       "    <tr>\n",
       "      <th>Coffee</th>\n",
       "      <td>2016-10-30</td>\n",
       "      <td>10:30:14</td>\n",
       "      <td>12</td>\n",
       "    </tr>\n",
       "    <tr>\n",
       "      <th>Coffee</th>\n",
       "      <td>2016-10-30</td>\n",
       "      <td>10:31:24</td>\n",
       "      <td>13</td>\n",
       "    </tr>\n",
       "    <tr>\n",
       "      <th>Coffee</th>\n",
       "      <td>2016-10-30</td>\n",
       "      <td>10:37:08</td>\n",
       "      <td>16</td>\n",
       "    </tr>\n",
       "    <tr>\n",
       "      <th>...</th>\n",
       "      <td>...</td>\n",
       "      <td>...</td>\n",
       "      <td>...</td>\n",
       "    </tr>\n",
       "    <tr>\n",
       "      <th>Coffee</th>\n",
       "      <td>2017-04-09</td>\n",
       "      <td>12:32:03</td>\n",
       "      <td>9673</td>\n",
       "    </tr>\n",
       "    <tr>\n",
       "      <th>Coffee</th>\n",
       "      <td>2017-04-09</td>\n",
       "      <td>13:04:08</td>\n",
       "      <td>9674</td>\n",
       "    </tr>\n",
       "    <tr>\n",
       "      <th>Coffee</th>\n",
       "      <td>2017-04-09</td>\n",
       "      <td>13:49:21</td>\n",
       "      <td>9678</td>\n",
       "    </tr>\n",
       "    <tr>\n",
       "      <th>Coffee</th>\n",
       "      <td>2017-04-09</td>\n",
       "      <td>14:32:58</td>\n",
       "      <td>9682</td>\n",
       "    </tr>\n",
       "    <tr>\n",
       "      <th>Coffee</th>\n",
       "      <td>2017-04-09</td>\n",
       "      <td>14:57:06</td>\n",
       "      <td>9683</td>\n",
       "    </tr>\n",
       "  </tbody>\n",
       "</table>\n",
       "<p>5471 rows × 3 columns</p>\n",
       "</div>"
      ],
      "text/plain": [
       "              Date      Time  Transaction\n",
       "Item                                     \n",
       "Coffee  2016-10-30  10:13:03            5\n",
       "Coffee  2016-10-30  10:19:12            7\n",
       "Coffee  2016-10-30  10:30:14           12\n",
       "Coffee  2016-10-30  10:31:24           13\n",
       "Coffee  2016-10-30  10:37:08           16\n",
       "...            ...       ...          ...\n",
       "Coffee  2017-04-09  12:32:03         9673\n",
       "Coffee  2017-04-09  13:04:08         9674\n",
       "Coffee  2017-04-09  13:49:21         9678\n",
       "Coffee  2017-04-09  14:32:58         9682\n",
       "Coffee  2017-04-09  14:57:06         9683\n",
       "\n",
       "[5471 rows x 3 columns]"
      ]
     },
     "execution_count": 51,
     "metadata": {},
     "output_type": "execute_result"
    }
   ],
   "source": [
    "new_index.loc[\"Coffee\"]"
   ]
  },
  {
   "cell_type": "code",
   "execution_count": 66,
   "id": "cd3a479d",
   "metadata": {},
   "outputs": [
    {
     "data": {
      "text/plain": [
       "4528"
      ]
     },
     "execution_count": 66,
     "metadata": {},
     "output_type": "execute_result"
    }
   ],
   "source": [
    "df.query(\"Item=='Coffee'\").Transaction.nunique()"
   ]
  },
  {
   "cell_type": "code",
   "execution_count": 77,
   "id": "34fe9140",
   "metadata": {},
   "outputs": [],
   "source": [
    "df[\"date_time\"] = df.Date + \" \" + df.Time"
   ]
  },
  {
   "cell_type": "markdown",
   "id": "908c4198",
   "metadata": {},
   "source": [
    "e) Print a table showing the monthly sales quantity of coffee and Tea."
   ]
  },
  {
   "cell_type": "code",
   "execution_count": 78,
   "id": "16aabcdc",
   "metadata": {},
   "outputs": [],
   "source": [
    "df.date_time = pd.to_datetime(df[\"date_time\"])"
   ]
  },
  {
   "cell_type": "code",
   "execution_count": 84,
   "id": "c3237f78",
   "metadata": {},
   "outputs": [],
   "source": [
    "df.drop(\"date-time\", axis = 1, inplace = True)"
   ]
  },
  {
   "cell_type": "code",
   "execution_count": 85,
   "id": "e69878f7",
   "metadata": {},
   "outputs": [
    {
     "data": {
      "text/html": [
       "<div>\n",
       "<style scoped>\n",
       "    .dataframe tbody tr th:only-of-type {\n",
       "        vertical-align: middle;\n",
       "    }\n",
       "\n",
       "    .dataframe tbody tr th {\n",
       "        vertical-align: top;\n",
       "    }\n",
       "\n",
       "    .dataframe thead th {\n",
       "        text-align: right;\n",
       "    }\n",
       "</style>\n",
       "<table border=\"1\" class=\"dataframe\">\n",
       "  <thead>\n",
       "    <tr style=\"text-align: right;\">\n",
       "      <th></th>\n",
       "      <th>Date</th>\n",
       "      <th>Time</th>\n",
       "      <th>Transaction</th>\n",
       "      <th>Item</th>\n",
       "      <th>date_time</th>\n",
       "    </tr>\n",
       "  </thead>\n",
       "  <tbody>\n",
       "    <tr>\n",
       "      <th>0</th>\n",
       "      <td>2016-10-30</td>\n",
       "      <td>09:58:11</td>\n",
       "      <td>1</td>\n",
       "      <td>Bread</td>\n",
       "      <td>2016-10-30 09:58:11</td>\n",
       "    </tr>\n",
       "    <tr>\n",
       "      <th>1</th>\n",
       "      <td>2016-10-30</td>\n",
       "      <td>10:05:34</td>\n",
       "      <td>2</td>\n",
       "      <td>Scandinavian</td>\n",
       "      <td>2016-10-30 10:05:34</td>\n",
       "    </tr>\n",
       "    <tr>\n",
       "      <th>2</th>\n",
       "      <td>2016-10-30</td>\n",
       "      <td>10:05:34</td>\n",
       "      <td>2</td>\n",
       "      <td>Scandinavian</td>\n",
       "      <td>2016-10-30 10:05:34</td>\n",
       "    </tr>\n",
       "    <tr>\n",
       "      <th>3</th>\n",
       "      <td>2016-10-30</td>\n",
       "      <td>10:07:57</td>\n",
       "      <td>3</td>\n",
       "      <td>Hot chocolate</td>\n",
       "      <td>2016-10-30 10:07:57</td>\n",
       "    </tr>\n",
       "    <tr>\n",
       "      <th>4</th>\n",
       "      <td>2016-10-30</td>\n",
       "      <td>10:07:57</td>\n",
       "      <td>3</td>\n",
       "      <td>Jam</td>\n",
       "      <td>2016-10-30 10:07:57</td>\n",
       "    </tr>\n",
       "  </tbody>\n",
       "</table>\n",
       "</div>"
      ],
      "text/plain": [
       "         Date      Time  Transaction           Item           date_time\n",
       "0  2016-10-30  09:58:11            1          Bread 2016-10-30 09:58:11\n",
       "1  2016-10-30  10:05:34            2   Scandinavian 2016-10-30 10:05:34\n",
       "2  2016-10-30  10:05:34            2   Scandinavian 2016-10-30 10:05:34\n",
       "3  2016-10-30  10:07:57            3  Hot chocolate 2016-10-30 10:07:57\n",
       "4  2016-10-30  10:07:57            3            Jam 2016-10-30 10:07:57"
      ]
     },
     "execution_count": 85,
     "metadata": {},
     "output_type": "execute_result"
    }
   ],
   "source": [
    "df.head()"
   ]
  },
  {
   "cell_type": "code",
   "execution_count": 86,
   "id": "10bb6c41",
   "metadata": {},
   "outputs": [
    {
     "data": {
      "text/plain": [
       "0       2016-10-30 09:58:11\n",
       "1       2016-10-30 10:05:34\n",
       "2       2016-10-30 10:05:34\n",
       "3       2016-10-30 10:07:57\n",
       "4       2016-10-30 10:07:57\n",
       "                ...        \n",
       "21288   2017-04-09 14:32:58\n",
       "21289   2017-04-09 14:32:58\n",
       "21290   2017-04-09 14:57:06\n",
       "21291   2017-04-09 14:57:06\n",
       "21292   2017-04-09 15:04:24\n",
       "Name: date_time, Length: 21293, dtype: datetime64[ns]"
      ]
     },
     "execution_count": 86,
     "metadata": {},
     "output_type": "execute_result"
    }
   ],
   "source": [
    "df.date_time"
   ]
  },
  {
   "cell_type": "code",
   "execution_count": 90,
   "id": "2ea06bd7",
   "metadata": {},
   "outputs": [],
   "source": [
    "df_tea = df.query(\"Item == 'Coffee' or Item == 'Tea'\")"
   ]
  },
  {
   "cell_type": "code",
   "execution_count": 92,
   "id": "55e9b3ea",
   "metadata": {},
   "outputs": [
    {
     "data": {
      "text/html": [
       "<div>\n",
       "<style scoped>\n",
       "    .dataframe tbody tr th:only-of-type {\n",
       "        vertical-align: middle;\n",
       "    }\n",
       "\n",
       "    .dataframe tbody tr th {\n",
       "        vertical-align: top;\n",
       "    }\n",
       "\n",
       "    .dataframe thead th {\n",
       "        text-align: right;\n",
       "    }\n",
       "</style>\n",
       "<table border=\"1\" class=\"dataframe\">\n",
       "  <thead>\n",
       "    <tr style=\"text-align: right;\">\n",
       "      <th></th>\n",
       "      <th>Date</th>\n",
       "      <th>Time</th>\n",
       "      <th>Transaction</th>\n",
       "      <th>Item</th>\n",
       "      <th>date_time</th>\n",
       "    </tr>\n",
       "  </thead>\n",
       "  <tbody>\n",
       "    <tr>\n",
       "      <th>7</th>\n",
       "      <td>2016-10-30</td>\n",
       "      <td>10:13:03</td>\n",
       "      <td>5</td>\n",
       "      <td>Coffee</td>\n",
       "      <td>2016-10-30 10:13:03</td>\n",
       "    </tr>\n",
       "    <tr>\n",
       "      <th>15</th>\n",
       "      <td>2016-10-30</td>\n",
       "      <td>10:19:12</td>\n",
       "      <td>7</td>\n",
       "      <td>Coffee</td>\n",
       "      <td>2016-10-30 10:19:12</td>\n",
       "    </tr>\n",
       "    <tr>\n",
       "      <th>16</th>\n",
       "      <td>2016-10-30</td>\n",
       "      <td>10:19:12</td>\n",
       "      <td>7</td>\n",
       "      <td>Tea</td>\n",
       "      <td>2016-10-30 10:19:12</td>\n",
       "    </tr>\n",
       "    <tr>\n",
       "      <th>28</th>\n",
       "      <td>2016-10-30</td>\n",
       "      <td>10:30:14</td>\n",
       "      <td>12</td>\n",
       "      <td>Coffee</td>\n",
       "      <td>2016-10-30 10:30:14</td>\n",
       "    </tr>\n",
       "    <tr>\n",
       "      <th>31</th>\n",
       "      <td>2016-10-30</td>\n",
       "      <td>10:30:14</td>\n",
       "      <td>12</td>\n",
       "      <td>Tea</td>\n",
       "      <td>2016-10-30 10:30:14</td>\n",
       "    </tr>\n",
       "  </tbody>\n",
       "</table>\n",
       "</div>"
      ],
      "text/plain": [
       "          Date      Time  Transaction    Item           date_time\n",
       "7   2016-10-30  10:13:03            5  Coffee 2016-10-30 10:13:03\n",
       "15  2016-10-30  10:19:12            7  Coffee 2016-10-30 10:19:12\n",
       "16  2016-10-30  10:19:12            7     Tea 2016-10-30 10:19:12\n",
       "28  2016-10-30  10:30:14           12  Coffee 2016-10-30 10:30:14\n",
       "31  2016-10-30  10:30:14           12     Tea 2016-10-30 10:30:14"
      ]
     },
     "execution_count": 92,
     "metadata": {},
     "output_type": "execute_result"
    }
   ],
   "source": [
    "df_tea.head()"
   ]
  },
  {
   "cell_type": "code",
   "execution_count": 89,
   "id": "b87ee8f9",
   "metadata": {},
   "outputs": [
    {
     "data": {
      "text/html": [
       "<div>\n",
       "<style scoped>\n",
       "    .dataframe tbody tr th:only-of-type {\n",
       "        vertical-align: middle;\n",
       "    }\n",
       "\n",
       "    .dataframe tbody tr th {\n",
       "        vertical-align: top;\n",
       "    }\n",
       "\n",
       "    .dataframe thead th {\n",
       "        text-align: right;\n",
       "    }\n",
       "</style>\n",
       "<table border=\"1\" class=\"dataframe\">\n",
       "  <thead>\n",
       "    <tr style=\"text-align: right;\">\n",
       "      <th></th>\n",
       "      <th>Date</th>\n",
       "      <th>Time</th>\n",
       "      <th>Transaction</th>\n",
       "      <th>Item</th>\n",
       "      <th>date_time</th>\n",
       "    </tr>\n",
       "  </thead>\n",
       "  <tbody>\n",
       "    <tr>\n",
       "      <th>7</th>\n",
       "      <td>2016-10-30</td>\n",
       "      <td>10:13:03</td>\n",
       "      <td>5</td>\n",
       "      <td>Coffee</td>\n",
       "      <td>2016-10-30 10:13:03</td>\n",
       "    </tr>\n",
       "    <tr>\n",
       "      <th>15</th>\n",
       "      <td>2016-10-30</td>\n",
       "      <td>10:19:12</td>\n",
       "      <td>7</td>\n",
       "      <td>Coffee</td>\n",
       "      <td>2016-10-30 10:19:12</td>\n",
       "    </tr>\n",
       "    <tr>\n",
       "      <th>28</th>\n",
       "      <td>2016-10-30</td>\n",
       "      <td>10:30:14</td>\n",
       "      <td>12</td>\n",
       "      <td>Coffee</td>\n",
       "      <td>2016-10-30 10:30:14</td>\n",
       "    </tr>\n",
       "    <tr>\n",
       "      <th>34</th>\n",
       "      <td>2016-10-30</td>\n",
       "      <td>10:31:24</td>\n",
       "      <td>13</td>\n",
       "      <td>Coffee</td>\n",
       "      <td>2016-10-30 10:31:24</td>\n",
       "    </tr>\n",
       "    <tr>\n",
       "      <th>44</th>\n",
       "      <td>2016-10-30</td>\n",
       "      <td>10:37:08</td>\n",
       "      <td>16</td>\n",
       "      <td>Coffee</td>\n",
       "      <td>2016-10-30 10:37:08</td>\n",
       "    </tr>\n",
       "    <tr>\n",
       "      <th>...</th>\n",
       "      <td>...</td>\n",
       "      <td>...</td>\n",
       "      <td>...</td>\n",
       "      <td>...</td>\n",
       "      <td>...</td>\n",
       "    </tr>\n",
       "    <tr>\n",
       "      <th>21269</th>\n",
       "      <td>2017-04-09</td>\n",
       "      <td>12:32:03</td>\n",
       "      <td>9673</td>\n",
       "      <td>Coffee</td>\n",
       "      <td>2017-04-09 12:32:03</td>\n",
       "    </tr>\n",
       "    <tr>\n",
       "      <th>21271</th>\n",
       "      <td>2017-04-09</td>\n",
       "      <td>13:04:08</td>\n",
       "      <td>9674</td>\n",
       "      <td>Coffee</td>\n",
       "      <td>2017-04-09 13:04:08</td>\n",
       "    </tr>\n",
       "    <tr>\n",
       "      <th>21276</th>\n",
       "      <td>2017-04-09</td>\n",
       "      <td>13:49:21</td>\n",
       "      <td>9678</td>\n",
       "      <td>Coffee</td>\n",
       "      <td>2017-04-09 13:49:21</td>\n",
       "    </tr>\n",
       "    <tr>\n",
       "      <th>21288</th>\n",
       "      <td>2017-04-09</td>\n",
       "      <td>14:32:58</td>\n",
       "      <td>9682</td>\n",
       "      <td>Coffee</td>\n",
       "      <td>2017-04-09 14:32:58</td>\n",
       "    </tr>\n",
       "    <tr>\n",
       "      <th>21290</th>\n",
       "      <td>2017-04-09</td>\n",
       "      <td>14:57:06</td>\n",
       "      <td>9683</td>\n",
       "      <td>Coffee</td>\n",
       "      <td>2017-04-09 14:57:06</td>\n",
       "    </tr>\n",
       "  </tbody>\n",
       "</table>\n",
       "<p>5471 rows × 5 columns</p>\n",
       "</div>"
      ],
      "text/plain": [
       "             Date      Time  Transaction    Item           date_time\n",
       "7      2016-10-30  10:13:03            5  Coffee 2016-10-30 10:13:03\n",
       "15     2016-10-30  10:19:12            7  Coffee 2016-10-30 10:19:12\n",
       "28     2016-10-30  10:30:14           12  Coffee 2016-10-30 10:30:14\n",
       "34     2016-10-30  10:31:24           13  Coffee 2016-10-30 10:31:24\n",
       "44     2016-10-30  10:37:08           16  Coffee 2016-10-30 10:37:08\n",
       "...           ...       ...          ...     ...                 ...\n",
       "21269  2017-04-09  12:32:03         9673  Coffee 2017-04-09 12:32:03\n",
       "21271  2017-04-09  13:04:08         9674  Coffee 2017-04-09 13:04:08\n",
       "21276  2017-04-09  13:49:21         9678  Coffee 2017-04-09 13:49:21\n",
       "21288  2017-04-09  14:32:58         9682  Coffee 2017-04-09 14:32:58\n",
       "21290  2017-04-09  14:57:06         9683  Coffee 2017-04-09 14:57:06\n",
       "\n",
       "[5471 rows x 5 columns]"
      ]
     },
     "execution_count": 89,
     "metadata": {},
     "output_type": "execute_result"
    }
   ],
   "source": [
    "df_tea"
   ]
  },
  {
   "cell_type": "code",
   "execution_count": 93,
   "id": "96cd5862",
   "metadata": {},
   "outputs": [
    {
     "data": {
      "text/plain": [
       "Item\n",
       "Coffee    5471\n",
       "Tea       1435\n",
       "Name: count, dtype: int64"
      ]
     },
     "execution_count": 93,
     "metadata": {},
     "output_type": "execute_result"
    }
   ],
   "source": [
    "df_tea.Item.value_counts()"
   ]
  },
  {
   "cell_type": "code",
   "execution_count": 98,
   "id": "238f01c8",
   "metadata": {},
   "outputs": [],
   "source": [
    "df_tea.set_index(\"date_time\", inplace = True)"
   ]
  },
  {
   "cell_type": "code",
   "execution_count": 105,
   "id": "914ba8a1",
   "metadata": {},
   "outputs": [
    {
     "data": {
      "text/html": [
       "<div>\n",
       "<style scoped>\n",
       "    .dataframe tbody tr th:only-of-type {\n",
       "        vertical-align: middle;\n",
       "    }\n",
       "\n",
       "    .dataframe tbody tr th {\n",
       "        vertical-align: top;\n",
       "    }\n",
       "\n",
       "    .dataframe thead th {\n",
       "        text-align: right;\n",
       "    }\n",
       "</style>\n",
       "<table border=\"1\" class=\"dataframe\">\n",
       "  <thead>\n",
       "    <tr style=\"text-align: right;\">\n",
       "      <th>Item</th>\n",
       "      <th>Coffee</th>\n",
       "      <th>Tea</th>\n",
       "    </tr>\n",
       "    <tr>\n",
       "      <th>date_time</th>\n",
       "      <th></th>\n",
       "      <th></th>\n",
       "    </tr>\n",
       "  </thead>\n",
       "  <tbody>\n",
       "    <tr>\n",
       "      <th>2016-10-01</th>\n",
       "      <td>93</td>\n",
       "      <td>31</td>\n",
       "    </tr>\n",
       "    <tr>\n",
       "      <th>2016-11-01</th>\n",
       "      <td>1189</td>\n",
       "      <td>311</td>\n",
       "    </tr>\n",
       "    <tr>\n",
       "      <th>2016-12-01</th>\n",
       "      <td>932</td>\n",
       "      <td>235</td>\n",
       "    </tr>\n",
       "    <tr>\n",
       "      <th>2017-01-01</th>\n",
       "      <td>892</td>\n",
       "      <td>260</td>\n",
       "    </tr>\n",
       "    <tr>\n",
       "      <th>2017-02-01</th>\n",
       "      <td>1004</td>\n",
       "      <td>267</td>\n",
       "    </tr>\n",
       "    <tr>\n",
       "      <th>2017-03-01</th>\n",
       "      <td>1071</td>\n",
       "      <td>258</td>\n",
       "    </tr>\n",
       "    <tr>\n",
       "      <th>2017-04-01</th>\n",
       "      <td>290</td>\n",
       "      <td>73</td>\n",
       "    </tr>\n",
       "  </tbody>\n",
       "</table>\n",
       "</div>"
      ],
      "text/plain": [
       "Item        Coffee  Tea\n",
       "date_time              \n",
       "2016-10-01      93   31\n",
       "2016-11-01    1189  311\n",
       "2016-12-01     932  235\n",
       "2017-01-01     892  260\n",
       "2017-02-01    1004  267\n",
       "2017-03-01    1071  258\n",
       "2017-04-01     290   73"
      ]
     },
     "execution_count": 105,
     "metadata": {},
     "output_type": "execute_result"
    }
   ],
   "source": [
    "# Result\n",
    "\n",
    "df_tea.resample(\"MS\").Item.value_counts().unstack()"
   ]
  },
  {
   "cell_type": "code",
   "execution_count": null,
   "id": "f428c3b9",
   "metadata": {},
   "outputs": [],
   "source": []
  },
  {
   "cell_type": "code",
   "execution_count": null,
   "id": "355645a1",
   "metadata": {},
   "outputs": [],
   "source": []
  },
  {
   "cell_type": "code",
   "execution_count": null,
   "id": "ead6a4f8",
   "metadata": {},
   "outputs": [],
   "source": []
  },
  {
   "cell_type": "code",
   "execution_count": null,
   "id": "a736ddc8",
   "metadata": {},
   "outputs": [],
   "source": []
  },
  {
   "cell_type": "code",
   "execution_count": null,
   "id": "ca551ad1",
   "metadata": {},
   "outputs": [],
   "source": []
  }
 ],
 "metadata": {
  "kernelspec": {
   "display_name": "Python 3 (ipykernel)",
   "language": "python",
   "name": "python3"
  },
  "language_info": {
   "codemirror_mode": {
    "name": "ipython",
    "version": 3
   },
   "file_extension": ".py",
   "mimetype": "text/x-python",
   "name": "python",
   "nbconvert_exporter": "python",
   "pygments_lexer": "ipython3",
   "version": "3.11.5"
  }
 },
 "nbformat": 4,
 "nbformat_minor": 5
}
